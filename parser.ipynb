{
 "cells": [
  {
   "cell_type": "code",
   "execution_count": 1,
   "metadata": {},
   "outputs": [],
   "source": [
    "from xml.dom.minidom import parseString\n",
    "from bs4 import BeautifulSoup\n",
    "import pandas as pd\n",
    "import dicttoxml\n",
    "import requests\n",
    "import re"
   ]
  },
  {
   "cell_type": "code",
   "execution_count": 2,
   "metadata": {},
   "outputs": [],
   "source": [
    "url = 'https://habr.com/ru/'\n",
    "\n",
    "r=requests.get(url).text\n",
    "soup=BeautifulSoup(r,'lxml')\n",
    "\n",
    "l=soup.find_all('li',class_='content-list__item content-list__item_post shortcuts_item')"
   ]
  },
  {
   "cell_type": "code",
   "execution_count": 4,
   "metadata": {},
   "outputs": [
    {
     "name": "stdout",
     "output_type": "stream",
     "text": [
      "18\n",
      "18\n"
     ]
    }
   ],
   "source": [
    "print(len(l))\n",
    "for i,j in enumerate(l):\n",
    "    try:\n",
    "        j.find('span',class_='user-info__nickname user-info__nickname_small').text\n",
    "    except:\n",
    "        del l[i]\n",
    "print(len(l))"
   ]
  },
  {
   "cell_type": "code",
   "execution_count": 5,
   "metadata": {},
   "outputs": [],
   "source": [
    "def make_rubric(li):\n",
    "    di = dict()\n",
    "    for i,j in enumerate(li.find_all('li',class_='inline-list__item')):\n",
    "        try:\n",
    "            di['rubric id=\"'+str(i)+'\"']={'title':j.text.replace(',','').replace('\\n',''),\n",
    "                                     'link':j.find('a').get('href')}\n",
    "        except:\n",
    "            di['rubric id=\"'+str(i)+'\"']={'title':j.text.replace(',','').replace('\\n',''),\n",
    "                                     'link':'None'}\n",
    "    return di\n",
    "\n",
    "def make_voiting(li):\n",
    "    di=dict()\n",
    "    di['total']=re.search(r'\\d+',li.find('span',class_='post-stats__result-counter').get('title')).group()\n",
    "    di['up']=re.search(r'↑\\d+',li.find('span',class_='post-stats__result-counter').get('title')).group().replace('↑','')\n",
    "    di['down']=re.search(r'↓\\d+',li.find('span',class_='post-stats__result-counter').get('title')).group().replace('↓','')\n",
    "    di['result']=li.find('span',class_='post-stats__result-counter').text\n",
    "    return di"
   ]
  },
  {
   "cell_type": "code",
   "execution_count": 6,
   "metadata": {},
   "outputs": [
    {
     "name": "stdout",
     "output_type": "stream",
     "text": [
      "ru_vds\n",
      "kern-panic\n",
      "the_bat\n",
      "Bee_brightside\n",
      "Dmytro_Kikot\n",
      "inetstar\n",
      "gavrashenko\n",
      "kventinel\n",
      "nckma\n",
      "e_finkel\n",
      "adamant\n",
      "ArtLop\n",
      "Galilea\n",
      "PatientZero\n",
      "Sound_cULT\n",
      "sanders1967\n",
      "smartdev\n",
      "irishaspir\n"
     ]
    }
   ],
   "source": [
    "d=dict()\n",
    "for i in l:\n",
    "    print(i.find('span',class_='user-info__nickname user-info__nickname_small').text)\n",
    "    d['post '+'id=\"'+i.get('id')+'\"']={\n",
    "                'name':i.find('span',class_='user-info__nickname user-info__nickname_small').text,\n",
    "                'post_time':i.find('span',class_='post__time').text,\n",
    "                'post_title':i.find('a',class_='post__title_link').text,\n",
    "                'inline_list':make_rubric(i),\n",
    "                'sinopsis':i.find('div',class_='post__text').text.replace('\\xa0',' '),\n",
    "                'voting':make_voiting(i)}"
   ]
  },
  {
   "cell_type": "code",
   "execution_count": 14,
   "metadata": {},
   "outputs": [
    {
     "data": {
      "text/plain": [
       "{'name': 'ru_vds',\n",
       " 'post_time': 'вчера в 12:30',\n",
       " 'post_title': 'Новые возможности TypeScript, повышающие удобство разработки',\n",
       " 'inline_list': {'rubric id=\"0\"': {'title': 'Блог компании RUVDS.com         ',\n",
       "   'link': 'https://habr.com/ru/company/ruvds/'},\n",
       "  'rubric id=\"1\"': {'title': 'Разработка веб-сайтов         ',\n",
       "   'link': 'https://habr.com/ru/hub/webdev/'},\n",
       "  'rubric id=\"2\"': {'title': 'TypeScript',\n",
       "   'link': 'https://habr.com/ru/hub/typescript/'},\n",
       "  'rubric id=\"3\"': {'title': 'Перевод', 'link': 'None'}},\n",
       " 'sinopsis': 'TypeScript, во многих отношениях, больше похож не на язык программирования, а на мощный инструмент для линтинга и документирования кода, который помогает писать более качественные JavaScript-программы.\\n\\r\\nОдна из наиболее заметных сильных сторон TypeScript — это поддержка некоторых из новейших возможностей, описанных в спецификации ECMAScript. Когда разработчик обновляется до новой версии TypeScript, это означает, что в его распоряжении оказываются и новые возможности JavaScript. Причём, использование этих возможностей не означает потенциальных проблем с совместимостью. TypeScript, помимо внедрения новейших возможностей JavaScript, заметен ещё и тем, что создатели языка постоянно представляют сообществу TS-программистов что-то новое, призванное повысить удобство работы. Сюда входят, например, вспомогательные инструменты для рефакторинга кода, средства для переименования сущностей и для поиска мест, где они используются в программах.\\n\\n\\n\\r\\nВ материале, перевод которого мы сегодня публикуем, будут рассмотрены некоторые интересные свежие возможности TypeScript. Для того чтобы ознакомиться с полным списком новшеств TypeScript — загляните сюда.',\n",
       " 'voting': {'total': '36', 'up': '35', 'down': '1', 'result': '+34'}}"
      ]
     },
     "execution_count": 14,
     "metadata": {},
     "output_type": "execute_result"
    }
   ],
   "source": [
    "d['post id=\"post_493712\"']"
   ]
  },
  {
   "cell_type": "code",
   "execution_count": 7,
   "metadata": {},
   "outputs": [],
   "source": [
    "pd.json_normalize(d)\n",
    "l=list()\n",
    "for i in list(d.values()):\n",
    "    l.append(pd.json_normalize(i).values[0])\n",
    "    \n",
    "s=''\n",
    "for i in l:\n",
    "    s+=' '.join(i)\n",
    "    s+='\\n--------------------------\\n'\n",
    "    \n",
    "f = open('dict_to_text.txt','w',encoding='utf-8')\n",
    "try:\n",
    "    f.write(s)\n",
    "finally:\n",
    "    f.close()"
   ]
  },
  {
   "cell_type": "code",
   "execution_count": 8,
   "metadata": {},
   "outputs": [],
   "source": [
    "xml = dicttoxml.dicttoxml(d,attr_type=False)\n",
    "doc = parseString(xml)\n",
    "doc.toprettyxml()\n",
    "f = open(\"output.xml\", \"w\",encoding='utf-8')\n",
    "try:\n",
    "    f.write(doc.toprettyxml(indent=\"  \").replace('<key name=\"post id=&quot;','<post id=\"').replace('<key name=\"rubric id=&quot;','<rubric id=\"').replace('&quot;','').replace('</link>\\n','</link>\\n      </rubric>\\n').replace('\\n      </key>','').replace('</key>','</post>').replace('         </title>','</title>'))\n",
    "finally:\n",
    "    f.close()"
   ]
  },
  {
   "cell_type": "code",
   "execution_count": 32,
   "metadata": {},
   "outputs": [],
   "source": [
    "# print(doc.toprettyxml(indent=\"  \").replace('<key name=\"','').replace('</link>\\n','</link>\\n      </rubric>\\n').replace('\\n      </key>','').replace('</key>','</post>').replace('         </title>','</title>'))"
   ]
  },
  {
   "cell_type": "code",
   "execution_count": 31,
   "metadata": {},
   "outputs": [],
   "source": [
    "# print(doc.toprettyxml(indent=\"  \").replace('key name=\"post id=&quot;post_493852&quot;\"','post id=\"post_493852\"'))\n",
    "# print(doc.toprettyxml(indent=\"  \").replace('<key name=\"','').replace('</link>\\n','</link>\\n      </rubric>\\n').replace('\\n      </key>','').replace('</key>','</post>').replace('         </title>','</title>'))"
   ]
  }
 ],
 "metadata": {
  "kernelspec": {
   "display_name": "Python 3",
   "language": "python",
   "name": "python3"
  },
  "language_info": {
   "codemirror_mode": {
    "name": "ipython",
    "version": 3
   },
   "file_extension": ".py",
   "mimetype": "text/x-python",
   "name": "python",
   "nbconvert_exporter": "python",
   "pygments_lexer": "ipython3",
   "version": "3.7.6"
  }
 },
 "nbformat": 4,
 "nbformat_minor": 2
}
